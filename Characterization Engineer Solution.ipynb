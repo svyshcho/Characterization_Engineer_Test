{
 "cells": [
  {
   "cell_type": "code",
   "execution_count": 3,
   "id": "229e99eb",
   "metadata": {},
   "outputs": [],
   "source": [
    "import serial\n",
    "import time\n",
    "\n",
    "def measure_voltage(ser, nplc):\n",
    "    ser.write(f\"NPLC:{nplc}\\n\".encode())\n",
    "    ser.write(b\"MEASURE\\n\")\n",
    "    voltage_str = ser.readline().decode().strip()\n",
    "    voltage = float(voltage_str)\n",
    "\n",
    "    return voltage\n",
    "\n",
    "def main():\n",
    "    port = '/dev/ttyUSB0'\n",
    "    baud_rate = 9600\n",
    "    ser = serial.Serial(port, baud_rate, timeout=1)\n",
    "\n",
    "    try:\n",
    "        input_range = 3.3\n",
    "        nplc = 1\n",
    "\n",
    "        while True:\n",
    "            voltage = measure_voltage(ser, nplc)\n",
    "            print(f\"Measured Voltage: {voltage}V\")\n",
    "            time.sleep(1)\n",
    "\n",
    "    except KeyboardInterrupt:\n",
    "        ser.close()\n",
    "        print(\"Serial connection closed.\")\n"
   ]
  },
  {
   "cell_type": "code",
   "execution_count": 4,
   "id": "78205ad3",
   "metadata": {},
   "outputs": [
    {
     "name": "stdout",
     "output_type": "stream",
     "text": [
      "Mean: 371.2631578947368\n",
      "Median: 368.0\n",
      "Mode: 357\n",
      "Standard Deviation: 13.710669427141436\n"
     ]
    }
   ],
   "source": [
    "import pandas as pd\n",
    "data = [364, 373, 358, 394, 378, 379, 357, 364, 350, 363, 392, 368, 359, 375, 399, 365, 379, 357, 380]\n",
    "\n",
    "data_series = pd.Series(data)\n",
    "\n",
    "mean_value = data_series.mean()\n",
    "\n",
    "median_value = data_series.median()\n",
    "\n",
    "mode_values = data_series.mode()\n",
    "\n",
    "std_deviation = data_series.std()\n",
    "\n",
    "print(f\"Mean: {mean_value}\")\n",
    "print(f\"Median: {median_value}\")\n",
    "print(f\"Mode: {mode_values.iloc[0]}\")\n",
    "print(f\"Standard Deviation: {std_deviation}\")\n"
   ]
  },
  {
   "cell_type": "code",
   "execution_count": null,
   "id": "1667eadd",
   "metadata": {},
   "outputs": [],
   "source": []
  }
 ],
 "metadata": {
  "kernelspec": {
   "display_name": "Python 3 (ipykernel)",
   "language": "python",
   "name": "python3"
  },
  "language_info": {
   "codemirror_mode": {
    "name": "ipython",
    "version": 3
   },
   "file_extension": ".py",
   "mimetype": "text/x-python",
   "name": "python",
   "nbconvert_exporter": "python",
   "pygments_lexer": "ipython3",
   "version": "3.11.5"
  }
 },
 "nbformat": 4,
 "nbformat_minor": 5
}
